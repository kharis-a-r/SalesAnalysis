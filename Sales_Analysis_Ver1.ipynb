{
 "cells": [
  {
   "cell_type": "markdown",
   "id": "ec791872",
   "metadata": {},
   "source": [
    "# Sales Analysis"
   ]
  },
  {
   "cell_type": "markdown",
   "id": "71cc88b4",
   "metadata": {},
   "source": [
    "#### Import necessary libraries"
   ]
  },
  {
   "cell_type": "code",
   "execution_count": 1,
   "id": "44a52f7b",
   "metadata": {},
   "outputs": [],
   "source": [
    "import pandas as pd\n",
    "import numpy as np\n",
    "import matplotlib.pyplot as plt\n",
    "import seaborn as sns"
   ]
  },
  {
   "cell_type": "markdown",
   "id": "228c6f40",
   "metadata": {},
   "source": [
    "#### Load sales data (csv)"
   ]
  },
  {
   "cell_type": "code",
   "execution_count": 2,
   "id": "0b208ab8",
   "metadata": {},
   "outputs": [
    {
     "data": {
      "text/html": [
       "<div>\n",
       "<style scoped>\n",
       "    .dataframe tbody tr th:only-of-type {\n",
       "        vertical-align: middle;\n",
       "    }\n",
       "\n",
       "    .dataframe tbody tr th {\n",
       "        vertical-align: top;\n",
       "    }\n",
       "\n",
       "    .dataframe thead th {\n",
       "        text-align: right;\n",
       "    }\n",
       "</style>\n",
       "<table border=\"1\" class=\"dataframe\">\n",
       "  <thead>\n",
       "    <tr style=\"text-align: right;\">\n",
       "      <th></th>\n",
       "      <th>Order ID</th>\n",
       "      <th>Product</th>\n",
       "      <th>Quantity Ordered</th>\n",
       "      <th>Price Each</th>\n",
       "      <th>Order Date</th>\n",
       "      <th>Purchase Address</th>\n",
       "    </tr>\n",
       "  </thead>\n",
       "  <tbody>\n",
       "    <tr>\n",
       "      <th>0</th>\n",
       "      <td>141234</td>\n",
       "      <td>iPhone</td>\n",
       "      <td>1</td>\n",
       "      <td>700</td>\n",
       "      <td>01/22/19 21:25</td>\n",
       "      <td>944 Walnut St, Boston, MA 02215</td>\n",
       "    </tr>\n",
       "    <tr>\n",
       "      <th>1</th>\n",
       "      <td>141235</td>\n",
       "      <td>Lightning Charging Cable</td>\n",
       "      <td>1</td>\n",
       "      <td>14.95</td>\n",
       "      <td>01/28/19 14:15</td>\n",
       "      <td>185 Maple St, Portland, OR 97035</td>\n",
       "    </tr>\n",
       "    <tr>\n",
       "      <th>2</th>\n",
       "      <td>141236</td>\n",
       "      <td>Wired Headphones</td>\n",
       "      <td>2</td>\n",
       "      <td>11.99</td>\n",
       "      <td>01/17/19 13:33</td>\n",
       "      <td>538 Adams St, San Francisco, CA 94016</td>\n",
       "    </tr>\n",
       "    <tr>\n",
       "      <th>3</th>\n",
       "      <td>141237</td>\n",
       "      <td>27in FHD Monitor</td>\n",
       "      <td>1</td>\n",
       "      <td>149.99</td>\n",
       "      <td>01/05/19 20:33</td>\n",
       "      <td>738 10th St, Los Angeles, CA 90001</td>\n",
       "    </tr>\n",
       "    <tr>\n",
       "      <th>4</th>\n",
       "      <td>141238</td>\n",
       "      <td>Wired Headphones</td>\n",
       "      <td>1</td>\n",
       "      <td>11.99</td>\n",
       "      <td>01/25/19 11:59</td>\n",
       "      <td>387 10th St, Austin, TX 73301</td>\n",
       "    </tr>\n",
       "    <tr>\n",
       "      <th>...</th>\n",
       "      <td>...</td>\n",
       "      <td>...</td>\n",
       "      <td>...</td>\n",
       "      <td>...</td>\n",
       "      <td>...</td>\n",
       "      <td>...</td>\n",
       "    </tr>\n",
       "    <tr>\n",
       "      <th>186845</th>\n",
       "      <td>319666</td>\n",
       "      <td>Lightning Charging Cable</td>\n",
       "      <td>1</td>\n",
       "      <td>14.95</td>\n",
       "      <td>12/11/19 20:58</td>\n",
       "      <td>14 Madison St, San Francisco, CA 94016</td>\n",
       "    </tr>\n",
       "    <tr>\n",
       "      <th>186846</th>\n",
       "      <td>319667</td>\n",
       "      <td>AA Batteries (4-pack)</td>\n",
       "      <td>2</td>\n",
       "      <td>3.84</td>\n",
       "      <td>12/01/19 12:01</td>\n",
       "      <td>549 Willow St, Los Angeles, CA 90001</td>\n",
       "    </tr>\n",
       "    <tr>\n",
       "      <th>186847</th>\n",
       "      <td>319668</td>\n",
       "      <td>Vareebadd Phone</td>\n",
       "      <td>1</td>\n",
       "      <td>400</td>\n",
       "      <td>12/09/19 06:43</td>\n",
       "      <td>273 Wilson St, Seattle, WA 98101</td>\n",
       "    </tr>\n",
       "    <tr>\n",
       "      <th>186848</th>\n",
       "      <td>319669</td>\n",
       "      <td>Wired Headphones</td>\n",
       "      <td>1</td>\n",
       "      <td>11.99</td>\n",
       "      <td>12/03/19 10:39</td>\n",
       "      <td>778 River St, Dallas, TX 75001</td>\n",
       "    </tr>\n",
       "    <tr>\n",
       "      <th>186849</th>\n",
       "      <td>319670</td>\n",
       "      <td>Bose SoundSport Headphones</td>\n",
       "      <td>1</td>\n",
       "      <td>99.99</td>\n",
       "      <td>12/21/19 21:45</td>\n",
       "      <td>747 Chestnut St, Los Angeles, CA 90001</td>\n",
       "    </tr>\n",
       "  </tbody>\n",
       "</table>\n",
       "<p>186850 rows × 6 columns</p>\n",
       "</div>"
      ],
      "text/plain": [
       "       Order ID                     Product Quantity Ordered Price Each  \\\n",
       "0        141234                      iPhone                1        700   \n",
       "1        141235    Lightning Charging Cable                1      14.95   \n",
       "2        141236            Wired Headphones                2      11.99   \n",
       "3        141237            27in FHD Monitor                1     149.99   \n",
       "4        141238            Wired Headphones                1      11.99   \n",
       "...         ...                         ...              ...        ...   \n",
       "186845   319666    Lightning Charging Cable                1      14.95   \n",
       "186846   319667       AA Batteries (4-pack)                2       3.84   \n",
       "186847   319668             Vareebadd Phone                1        400   \n",
       "186848   319669            Wired Headphones                1      11.99   \n",
       "186849   319670  Bose SoundSport Headphones                1      99.99   \n",
       "\n",
       "            Order Date                        Purchase Address  \n",
       "0       01/22/19 21:25         944 Walnut St, Boston, MA 02215  \n",
       "1       01/28/19 14:15        185 Maple St, Portland, OR 97035  \n",
       "2       01/17/19 13:33   538 Adams St, San Francisco, CA 94016  \n",
       "3       01/05/19 20:33      738 10th St, Los Angeles, CA 90001  \n",
       "4       01/25/19 11:59           387 10th St, Austin, TX 73301  \n",
       "...                ...                                     ...  \n",
       "186845  12/11/19 20:58  14 Madison St, San Francisco, CA 94016  \n",
       "186846  12/01/19 12:01    549 Willow St, Los Angeles, CA 90001  \n",
       "186847  12/09/19 06:43        273 Wilson St, Seattle, WA 98101  \n",
       "186848  12/03/19 10:39          778 River St, Dallas, TX 75001  \n",
       "186849  12/21/19 21:45  747 Chestnut St, Los Angeles, CA 90001  \n",
       "\n",
       "[186850 rows x 6 columns]"
      ]
     },
     "execution_count": 2,
     "metadata": {},
     "output_type": "execute_result"
    }
   ],
   "source": [
    "path_data = 'Sales_Data/'\n",
    "months = ['January', 'February', 'March', 'April', 'May', 'June', 'July', 'August', 'September', 'October', 'November', 'December']\n",
    "\n",
    "df = pd.DataFrame()\n",
    "\n",
    "for month in months:\n",
    "    current_month = pd.read_csv(path_data+f'Sales_{month}_2019.csv')\n",
    "    df = pd.concat([df, current_month])\n",
    "    \n",
    "# Export to csv and read as df    \n",
    "df.to_csv('data_all_months.csv', index=False)\n",
    "df = pd.read_csv('data_all_months.csv')\n",
    "df"
   ]
  },
  {
   "cell_type": "markdown",
   "id": "1875925d",
   "metadata": {},
   "source": [
    "## Data Wrangling"
   ]
  },
  {
   "cell_type": "markdown",
   "id": "ccf6f935",
   "metadata": {},
   "source": [
    "#### Check 0 values"
   ]
  },
  {
   "cell_type": "code",
   "execution_count": 3,
   "id": "cd894e8d",
   "metadata": {},
   "outputs": [
    {
     "data": {
      "text/plain": [
       "Order ID            False\n",
       "Product             False\n",
       "Quantity Ordered    False\n",
       "Price Each          False\n",
       "Order Date          False\n",
       "Purchase Address    False\n",
       "dtype: bool"
      ]
     },
     "execution_count": 3,
     "metadata": {},
     "output_type": "execute_result"
    }
   ],
   "source": [
    "df.isin([0]).any()"
   ]
  },
  {
   "cell_type": "markdown",
   "id": "bc83e786",
   "metadata": {},
   "source": [
    "#### Delete Column Header inside the DataFrame"
   ]
  },
  {
   "cell_type": "code",
   "execution_count": 4,
   "id": "34a60bee",
   "metadata": {},
   "outputs": [],
   "source": [
    "df.drop(df.loc[df['Quantity Ordered']=='Quantity Ordered'].index, inplace=True)"
   ]
  },
  {
   "cell_type": "markdown",
   "id": "f96e31ad",
   "metadata": {},
   "source": [
    "#### Check NaN Values"
   ]
  },
  {
   "cell_type": "code",
   "execution_count": 5,
   "id": "71b6ef34",
   "metadata": {},
   "outputs": [
    {
     "data": {
      "text/plain": [
       "Order ID            545\n",
       "Product             545\n",
       "Quantity Ordered    545\n",
       "Price Each          545\n",
       "Order Date          545\n",
       "Purchase Address    545\n",
       "dtype: int64"
      ]
     },
     "execution_count": 5,
     "metadata": {},
     "output_type": "execute_result"
    }
   ],
   "source": [
    "df.isna().sum()"
   ]
  },
  {
   "cell_type": "markdown",
   "id": "7fa6949f",
   "metadata": {},
   "source": [
    "#### Drop NaN rows"
   ]
  },
  {
   "cell_type": "code",
   "execution_count": 6,
   "id": "dfac26d5",
   "metadata": {},
   "outputs": [],
   "source": [
    "df.dropna(inplace=True)"
   ]
  },
  {
   "cell_type": "markdown",
   "id": "6da3d5d7",
   "metadata": {},
   "source": [
    "#### Adjust data types"
   ]
  },
  {
   "cell_type": "code",
   "execution_count": 7,
   "id": "4f0ebb60",
   "metadata": {},
   "outputs": [
    {
     "name": "stdout",
     "output_type": "stream",
     "text": [
      "<class 'pandas.core.frame.DataFrame'>\n",
      "Int64Index: 185950 entries, 0 to 186849\n",
      "Data columns (total 6 columns):\n",
      " #   Column            Non-Null Count   Dtype \n",
      "---  ------            --------------   ----- \n",
      " 0   Order ID          185950 non-null  object\n",
      " 1   Product           185950 non-null  object\n",
      " 2   Quantity Ordered  185950 non-null  object\n",
      " 3   Price Each        185950 non-null  object\n",
      " 4   Order Date        185950 non-null  object\n",
      " 5   Purchase Address  185950 non-null  object\n",
      "dtypes: object(6)\n",
      "memory usage: 9.9+ MB\n"
     ]
    }
   ],
   "source": [
    "df.info()"
   ]
  },
  {
   "cell_type": "markdown",
   "id": "04fb9a5d",
   "metadata": {},
   "source": [
    "##### Change data types\n",
    "* #Order ID = int\n",
    "* Quantity Ordered = int\n",
    "* Price Each = float\n",
    "* Order Date = date"
   ]
  },
  {
   "cell_type": "code",
   "execution_count": 8,
   "id": "954be1eb",
   "metadata": {},
   "outputs": [
    {
     "name": "stdout",
     "output_type": "stream",
     "text": [
      "<class 'pandas.core.frame.DataFrame'>\n",
      "Int64Index: 185950 entries, 0 to 186849\n",
      "Data columns (total 6 columns):\n",
      " #   Column            Non-Null Count   Dtype         \n",
      "---  ------            --------------   -----         \n",
      " 0   Order ID          185950 non-null  object        \n",
      " 1   Product           185950 non-null  object        \n",
      " 2   Quantity Ordered  185950 non-null  int64         \n",
      " 3   Price Each        185950 non-null  float64       \n",
      " 4   Order Date        185950 non-null  datetime64[ns]\n",
      " 5   Purchase Address  185950 non-null  object        \n",
      "dtypes: datetime64[ns](1), float64(1), int64(1), object(3)\n",
      "memory usage: 9.9+ MB\n"
     ]
    }
   ],
   "source": [
    "# Change Order Date data types\n",
    "df['Order Date'] = pd.to_datetime(df['Order Date'], format='%m/%d/%y %H:%M')\n",
    "\n",
    "# Change Order id data types\n",
    "#df['Order ID'] = df['Order ID'].astype('int64')\n",
    "\n",
    "# Change Quantity Ordered data types\n",
    "df['Quantity Ordered'] = df['Quantity Ordered'].astype('int64')\n",
    "\n",
    "# Change Price Each data types\n",
    "df['Price Each'] = df['Price Each'].astype('float64')\n",
    "\n",
    "df.info()"
   ]
  },
  {
   "cell_type": "markdown",
   "id": "08493e66",
   "metadata": {},
   "source": [
    "## Exploratory Data Analysis"
   ]
  },
  {
   "cell_type": "markdown",
   "id": "c82b81ac",
   "metadata": {},
   "source": [
    "### Question 1: What was the best month for sales? How much was earned that month?"
   ]
  },
  {
   "cell_type": "code",
   "execution_count": 9,
   "id": "a40b9bea",
   "metadata": {},
   "outputs": [
    {
     "data": {
      "text/html": [
       "<div>\n",
       "<style scoped>\n",
       "    .dataframe tbody tr th:only-of-type {\n",
       "        vertical-align: middle;\n",
       "    }\n",
       "\n",
       "    .dataframe tbody tr th {\n",
       "        vertical-align: top;\n",
       "    }\n",
       "\n",
       "    .dataframe thead th {\n",
       "        text-align: right;\n",
       "    }\n",
       "</style>\n",
       "<table border=\"1\" class=\"dataframe\">\n",
       "  <thead>\n",
       "    <tr style=\"text-align: right;\">\n",
       "      <th></th>\n",
       "      <th>Order ID</th>\n",
       "      <th>Product</th>\n",
       "      <th>Quantity Ordered</th>\n",
       "      <th>Price Each</th>\n",
       "      <th>Order Date</th>\n",
       "      <th>Purchase Address</th>\n",
       "      <th>Month</th>\n",
       "    </tr>\n",
       "  </thead>\n",
       "  <tbody>\n",
       "    <tr>\n",
       "      <th>0</th>\n",
       "      <td>141234</td>\n",
       "      <td>iPhone</td>\n",
       "      <td>1</td>\n",
       "      <td>700.00</td>\n",
       "      <td>2019-01-22 21:25:00</td>\n",
       "      <td>944 Walnut St, Boston, MA 02215</td>\n",
       "      <td>Jan</td>\n",
       "    </tr>\n",
       "    <tr>\n",
       "      <th>1</th>\n",
       "      <td>141235</td>\n",
       "      <td>Lightning Charging Cable</td>\n",
       "      <td>1</td>\n",
       "      <td>14.95</td>\n",
       "      <td>2019-01-28 14:15:00</td>\n",
       "      <td>185 Maple St, Portland, OR 97035</td>\n",
       "      <td>Jan</td>\n",
       "    </tr>\n",
       "    <tr>\n",
       "      <th>2</th>\n",
       "      <td>141236</td>\n",
       "      <td>Wired Headphones</td>\n",
       "      <td>2</td>\n",
       "      <td>11.99</td>\n",
       "      <td>2019-01-17 13:33:00</td>\n",
       "      <td>538 Adams St, San Francisco, CA 94016</td>\n",
       "      <td>Jan</td>\n",
       "    </tr>\n",
       "    <tr>\n",
       "      <th>3</th>\n",
       "      <td>141237</td>\n",
       "      <td>27in FHD Monitor</td>\n",
       "      <td>1</td>\n",
       "      <td>149.99</td>\n",
       "      <td>2019-01-05 20:33:00</td>\n",
       "      <td>738 10th St, Los Angeles, CA 90001</td>\n",
       "      <td>Jan</td>\n",
       "    </tr>\n",
       "    <tr>\n",
       "      <th>4</th>\n",
       "      <td>141238</td>\n",
       "      <td>Wired Headphones</td>\n",
       "      <td>1</td>\n",
       "      <td>11.99</td>\n",
       "      <td>2019-01-25 11:59:00</td>\n",
       "      <td>387 10th St, Austin, TX 73301</td>\n",
       "      <td>Jan</td>\n",
       "    </tr>\n",
       "  </tbody>\n",
       "</table>\n",
       "</div>"
      ],
      "text/plain": [
       "  Order ID                   Product  Quantity Ordered  Price Each  \\\n",
       "0   141234                    iPhone                 1      700.00   \n",
       "1   141235  Lightning Charging Cable                 1       14.95   \n",
       "2   141236          Wired Headphones                 2       11.99   \n",
       "3   141237          27in FHD Monitor                 1      149.99   \n",
       "4   141238          Wired Headphones                 1       11.99   \n",
       "\n",
       "           Order Date                       Purchase Address Month  \n",
       "0 2019-01-22 21:25:00        944 Walnut St, Boston, MA 02215   Jan  \n",
       "1 2019-01-28 14:15:00       185 Maple St, Portland, OR 97035   Jan  \n",
       "2 2019-01-17 13:33:00  538 Adams St, San Francisco, CA 94016   Jan  \n",
       "3 2019-01-05 20:33:00     738 10th St, Los Angeles, CA 90001   Jan  \n",
       "4 2019-01-25 11:59:00          387 10th St, Austin, TX 73301   Jan  "
      ]
     },
     "execution_count": 9,
     "metadata": {},
     "output_type": "execute_result"
    }
   ],
   "source": [
    "# Make a Month column with format short name (Jan, Feb, etc)\n",
    "df['Month'] = df['Order Date'].dt.strftime('%b')\n",
    "df.head()"
   ]
  },
  {
   "cell_type": "code",
   "execution_count": 10,
   "id": "08423ffe",
   "metadata": {},
   "outputs": [
    {
     "name": "stdout",
     "output_type": "stream",
     "text": [
      "Best month for sales is Dec with total earning of USD 4613443.34000153\n"
     ]
    },
    {
     "data": {
      "image/png": "[encoded data removed]",
      "text/plain": [
       "<Figure size 432x288 with 1 Axes>"
      ]
     },
     "metadata": {
      "needs_background": "light"
     },
     "output_type": "display_data"
    }
   ],
   "source": [
    "df['Total Sales'] = df['Quantity Ordered'] * df['Price Each']\n",
    "# display(df.groupby('Month').sum().sort_values(by='Total Sales', ascending=False))\n",
    "print('Best month for sales is', df.groupby('Month').sum().sort_values(by='Total Sales', ascending=False).index[0],\n",
    "     'with total earning of USD', df.groupby('Month').sum().sort_values(by='Total Sales', ascending=False)['Total Sales'][0],)\n",
    "\n",
    "# Plot Total Sales to Month\n",
    "sns.barplot(data=df, x=df.groupby('Month').sum().index,\n",
    "            y=df.groupby('Month').sum()['Total Sales'], color='salmon')\n",
    "plt.show()"
   ]
  },
  {
   "cell_type": "markdown",
   "id": "7061034f",
   "metadata": {},
   "source": [
    "### Question 2: What city sold the most product?"
   ]
  },
  {
   "cell_type": "code",
   "execution_count": 11,
   "id": "82c5e141",
   "metadata": {},
   "outputs": [
    {
     "data": {
      "text/html": [
       "<div>\n",
       "<style scoped>\n",
       "    .dataframe tbody tr th:only-of-type {\n",
       "        vertical-align: middle;\n",
       "    }\n",
       "\n",
       "    .dataframe tbody tr th {\n",
       "        vertical-align: top;\n",
       "    }\n",
       "\n",
       "    .dataframe thead th {\n",
       "        text-align: right;\n",
       "    }\n",
       "</style>\n",
       "<table border=\"1\" class=\"dataframe\">\n",
       "  <thead>\n",
       "    <tr style=\"text-align: right;\">\n",
       "      <th></th>\n",
       "      <th>Order ID</th>\n",
       "      <th>Product</th>\n",
       "      <th>Quantity Ordered</th>\n",
       "      <th>Price Each</th>\n",
       "      <th>Order Date</th>\n",
       "      <th>Purchase Address</th>\n",
       "      <th>Month</th>\n",
       "      <th>Total Sales</th>\n",
       "      <th>City</th>\n",
       "    </tr>\n",
       "  </thead>\n",
       "  <tbody>\n",
       "    <tr>\n",
       "      <th>0</th>\n",
       "      <td>141234</td>\n",
       "      <td>iPhone</td>\n",
       "      <td>1</td>\n",
       "      <td>700.00</td>\n",
       "      <td>2019-01-22 21:25:00</td>\n",
       "      <td>944 Walnut St, Boston, MA 02215</td>\n",
       "      <td>Jan</td>\n",
       "      <td>700.00</td>\n",
       "      <td>Boston, MA</td>\n",
       "    </tr>\n",
       "    <tr>\n",
       "      <th>1</th>\n",
       "      <td>141235</td>\n",
       "      <td>Lightning Charging Cable</td>\n",
       "      <td>1</td>\n",
       "      <td>14.95</td>\n",
       "      <td>2019-01-28 14:15:00</td>\n",
       "      <td>185 Maple St, Portland, OR 97035</td>\n",
       "      <td>Jan</td>\n",
       "      <td>14.95</td>\n",
       "      <td>Portland, OR</td>\n",
       "    </tr>\n",
       "    <tr>\n",
       "      <th>2</th>\n",
       "      <td>141236</td>\n",
       "      <td>Wired Headphones</td>\n",
       "      <td>2</td>\n",
       "      <td>11.99</td>\n",
       "      <td>2019-01-17 13:33:00</td>\n",
       "      <td>538 Adams St, San Francisco, CA 94016</td>\n",
       "      <td>Jan</td>\n",
       "      <td>23.98</td>\n",
       "      <td>San Francisco, CA</td>\n",
       "    </tr>\n",
       "    <tr>\n",
       "      <th>3</th>\n",
       "      <td>141237</td>\n",
       "      <td>27in FHD Monitor</td>\n",
       "      <td>1</td>\n",
       "      <td>149.99</td>\n",
       "      <td>2019-01-05 20:33:00</td>\n",
       "      <td>738 10th St, Los Angeles, CA 90001</td>\n",
       "      <td>Jan</td>\n",
       "      <td>149.99</td>\n",
       "      <td>Los Angeles, CA</td>\n",
       "    </tr>\n",
       "    <tr>\n",
       "      <th>4</th>\n",
       "      <td>141238</td>\n",
       "      <td>Wired Headphones</td>\n",
       "      <td>1</td>\n",
       "      <td>11.99</td>\n",
       "      <td>2019-01-25 11:59:00</td>\n",
       "      <td>387 10th St, Austin, TX 73301</td>\n",
       "      <td>Jan</td>\n",
       "      <td>11.99</td>\n",
       "      <td>Austin, TX</td>\n",
       "    </tr>\n",
       "    <tr>\n",
       "      <th>...</th>\n",
       "      <td>...</td>\n",
       "      <td>...</td>\n",
       "      <td>...</td>\n",
       "      <td>...</td>\n",
       "      <td>...</td>\n",
       "      <td>...</td>\n",
       "      <td>...</td>\n",
       "      <td>...</td>\n",
       "      <td>...</td>\n",
       "    </tr>\n",
       "    <tr>\n",
       "      <th>186845</th>\n",
       "      <td>319666</td>\n",
       "      <td>Lightning Charging Cable</td>\n",
       "      <td>1</td>\n",
       "      <td>14.95</td>\n",
       "      <td>2019-12-11 20:58:00</td>\n",
       "      <td>14 Madison St, San Francisco, CA 94016</td>\n",
       "      <td>Dec</td>\n",
       "      <td>14.95</td>\n",
       "      <td>San Francisco, CA</td>\n",
       "    </tr>\n",
       "    <tr>\n",
       "      <th>186846</th>\n",
       "      <td>319667</td>\n",
       "      <td>AA Batteries (4-pack)</td>\n",
       "      <td>2</td>\n",
       "      <td>3.84</td>\n",
       "      <td>2019-12-01 12:01:00</td>\n",
       "      <td>549 Willow St, Los Angeles, CA 90001</td>\n",
       "      <td>Dec</td>\n",
       "      <td>7.68</td>\n",
       "      <td>Los Angeles, CA</td>\n",
       "    </tr>\n",
       "    <tr>\n",
       "      <th>186847</th>\n",
       "      <td>319668</td>\n",
       "      <td>Vareebadd Phone</td>\n",
       "      <td>1</td>\n",
       "      <td>400.00</td>\n",
       "      <td>2019-12-09 06:43:00</td>\n",
       "      <td>273 Wilson St, Seattle, WA 98101</td>\n",
       "      <td>Dec</td>\n",
       "      <td>400.00</td>\n",
       "      <td>Seattle, WA</td>\n",
       "    </tr>\n",
       "    <tr>\n",
       "      <th>186848</th>\n",
       "      <td>319669</td>\n",
       "      <td>Wired Headphones</td>\n",
       "      <td>1</td>\n",
       "      <td>11.99</td>\n",
       "      <td>2019-12-03 10:39:00</td>\n",
       "      <td>778 River St, Dallas, TX 75001</td>\n",
       "      <td>Dec</td>\n",
       "      <td>11.99</td>\n",
       "      <td>Dallas, TX</td>\n",
       "    </tr>\n",
       "    <tr>\n",
       "      <th>186849</th>\n",
       "      <td>319670</td>\n",
       "      <td>Bose SoundSport Headphones</td>\n",
       "      <td>1</td>\n",
       "      <td>99.99</td>\n",
       "      <td>2019-12-21 21:45:00</td>\n",
       "      <td>747 Chestnut St, Los Angeles, CA 90001</td>\n",
       "      <td>Dec</td>\n",
       "      <td>99.99</td>\n",
       "      <td>Los Angeles, CA</td>\n",
       "    </tr>\n",
       "  </tbody>\n",
       "</table>\n",
       "<p>185950 rows × 9 columns</p>\n",
       "</div>"
      ],
      "text/plain": [
       "       Order ID                     Product  Quantity Ordered  Price Each  \\\n",
       "0        141234                      iPhone                 1      700.00   \n",
       "1        141235    Lightning Charging Cable                 1       14.95   \n",
       "2        141236            Wired Headphones                 2       11.99   \n",
       "3        141237            27in FHD Monitor                 1      149.99   \n",
       "4        141238            Wired Headphones                 1       11.99   \n",
       "...         ...                         ...               ...         ...   \n",
       "186845   319666    Lightning Charging Cable                 1       14.95   \n",
       "186846   319667       AA Batteries (4-pack)                 2        3.84   \n",
       "186847   319668             Vareebadd Phone                 1      400.00   \n",
       "186848   319669            Wired Headphones                 1       11.99   \n",
       "186849   319670  Bose SoundSport Headphones                 1       99.99   \n",
       "\n",
       "                Order Date                        Purchase Address Month  \\\n",
       "0      2019-01-22 21:25:00         944 Walnut St, Boston, MA 02215   Jan   \n",
       "1      2019-01-28 14:15:00        185 Maple St, Portland, OR 97035   Jan   \n",
       "2      2019-01-17 13:33:00   538 Adams St, San Francisco, CA 94016   Jan   \n",
       "3      2019-01-05 20:33:00      738 10th St, Los Angeles, CA 90001   Jan   \n",
       "4      2019-01-25 11:59:00           387 10th St, Austin, TX 73301   Jan   \n",
       "...                    ...                                     ...   ...   \n",
       "186845 2019-12-11 20:58:00  14 Madison St, San Francisco, CA 94016   Dec   \n",
       "186846 2019-12-01 12:01:00    549 Willow St, Los Angeles, CA 90001   Dec   \n",
       "186847 2019-12-09 06:43:00        273 Wilson St, Seattle, WA 98101   Dec   \n",
       "186848 2019-12-03 10:39:00          778 River St, Dallas, TX 75001   Dec   \n",
       "186849 2019-12-21 21:45:00  747 Chestnut St, Los Angeles, CA 90001   Dec   \n",
       "\n",
       "        Total Sales               City  \n",
       "0            700.00         Boston, MA  \n",
       "1             14.95       Portland, OR  \n",
       "2             23.98  San Francisco, CA  \n",
       "3            149.99    Los Angeles, CA  \n",
       "4             11.99         Austin, TX  \n",
       "...             ...                ...  \n",
       "186845        14.95  San Francisco, CA  \n",
       "186846         7.68    Los Angeles, CA  \n",
       "186847       400.00        Seattle, WA  \n",
       "186848        11.99         Dallas, TX  \n",
       "186849        99.99    Los Angeles, CA  \n",
       "\n",
       "[185950 rows x 9 columns]"
      ]
     },
     "execution_count": 11,
     "metadata": {},
     "output_type": "execute_result"
    }
   ],
   "source": [
    "# Slice state from Purchase Address\n",
    "state = df['Purchase Address'].str.slice(-8, -6)\n",
    "\n",
    "# Slice city from Purchase Address\n",
    "cities = pd.Series(df['Purchase Address'].str.split(pat=','))\n",
    "city_arr = []\n",
    "for i in cities:\n",
    "    city = i[1].strip(' ') + ', ' # strip whitespace and add ', '\n",
    "    city_arr.append(city)\n",
    "\n",
    "# When I convert city_arr to Series than add it to df, why it produces NaN values???\n",
    "df['City'] = city_arr\n",
    "df['City'] = df['City'] + state\n",
    "df"
   ]
  },
  {
   "cell_type": "code",
   "execution_count": 12,
   "id": "b5af3f5b",
   "metadata": {},
   "outputs": [
    {
     "name": "stdout",
     "output_type": "stream",
     "text": [
      "City sold the most product is San Francisco, CA\n"
     ]
    },
    {
     "data": {
      "image/png": "[encoded data removed]",
      "text/plain": [
       "<Figure size 432x288 with 1 Axes>"
      ]
     },
     "metadata": {
      "needs_background": "light"
     },
     "output_type": "display_data"
    }
   ],
   "source": [
    "# Pivot table for City and Product Quantity Ordered\n",
    "quantity_city = pd.pivot_table(df, values='Quantity Ordered', index='City', aggfunc=np.sum).sort_values(by='Quantity Ordered', ascending=False)\n",
    "# display(quantity_city)\n",
    "print('City sold the most product is', quantity_city.index[0])\n",
    "\n",
    "# Plot Quantity Ordered to Cities\n",
    "sns.barplot(data=quantity_city, x=quantity_city.index, y=quantity_city['Quantity Ordered'], color='salmon')\n",
    "plt.xticks(rotation=90)\n",
    "plt.show()"
   ]
  },
  {
   "cell_type": "code",
   "execution_count": 13,
   "id": "6b6c9857",
   "metadata": {},
   "outputs": [
    {
     "name": "stdout",
     "output_type": "stream",
     "text": [
      "City made most sales is San Francisco, CA\n"
     ]
    },
    {
     "data": {
      "image/png": "[encoded data removed]",
      "text/plain": [
       "<Figure size 432x288 with 1 Axes>"
      ]
     },
     "metadata": {
      "needs_background": "light"
     },
     "output_type": "display_data"
    }
   ],
   "source": [
    "# Pivot table for City and Total Sales\n",
    "sales_city = pd.pivot_table(df, values='Total Sales', index='City', aggfunc=np.sum).sort_values(by='Total Sales', ascending=False)\n",
    "# display(sales_city)\n",
    "print('City made most sales is', sales_city.index[0])\n",
    "\n",
    "# Plot Quantity Ordered to Cities\n",
    "ax = sns.barplot(data=sales_city, x=sales_city.index, y='Total Sales', color='salmon')\n",
    "plt.xticks(rotation=90)\n",
    "ax.grid(True)\n",
    "plt.show()"
   ]
  },
  {
   "cell_type": "markdown",
   "id": "4f4902b3",
   "metadata": {},
   "source": [
    "### Question 2b: What state sold the most product?"
   ]
  },
  {
   "cell_type": "code",
   "execution_count": 14,
   "id": "e529483a",
   "metadata": {},
   "outputs": [],
   "source": [
    "# Slice State from Purchase Address\n",
    "df['State'] = df['Purchase Address'].str.slice(-8, -6)"
   ]
  },
  {
   "cell_type": "code",
   "execution_count": 15,
   "id": "ee110f3b",
   "metadata": {},
   "outputs": [
    {
     "data": {
      "text/html": [
       "<div>\n",
       "<style scoped>\n",
       "    .dataframe tbody tr th:only-of-type {\n",
       "        vertical-align: middle;\n",
       "    }\n",
       "\n",
       "    .dataframe tbody tr th {\n",
       "        vertical-align: top;\n",
       "    }\n",
       "\n",
       "    .dataframe thead th {\n",
       "        text-align: right;\n",
       "    }\n",
       "</style>\n",
       "<table border=\"1\" class=\"dataframe\">\n",
       "  <thead>\n",
       "    <tr style=\"text-align: right;\">\n",
       "      <th></th>\n",
       "      <th>Quantity Ordered</th>\n",
       "    </tr>\n",
       "    <tr>\n",
       "      <th>State</th>\n",
       "      <th></th>\n",
       "    </tr>\n",
       "  </thead>\n",
       "  <tbody>\n",
       "    <tr>\n",
       "      <th>CA</th>\n",
       "      <td>83528</td>\n",
       "    </tr>\n",
       "    <tr>\n",
       "      <th>NY</th>\n",
       "      <td>27932</td>\n",
       "    </tr>\n",
       "    <tr>\n",
       "      <th>TX</th>\n",
       "      <td>27883</td>\n",
       "    </tr>\n",
       "    <tr>\n",
       "      <th>MA</th>\n",
       "      <td>22528</td>\n",
       "    </tr>\n",
       "    <tr>\n",
       "      <th>GA</th>\n",
       "      <td>16602</td>\n",
       "    </tr>\n",
       "    <tr>\n",
       "      <th>WA</th>\n",
       "      <td>16553</td>\n",
       "    </tr>\n",
       "    <tr>\n",
       "      <th>OR</th>\n",
       "      <td>11303</td>\n",
       "    </tr>\n",
       "    <tr>\n",
       "      <th>ME</th>\n",
       "      <td>2750</td>\n",
       "    </tr>\n",
       "  </tbody>\n",
       "</table>\n",
       "</div>"
      ],
      "text/plain": [
       "       Quantity Ordered\n",
       "State                  \n",
       "CA                83528\n",
       "NY                27932\n",
       "TX                27883\n",
       "MA                22528\n",
       "GA                16602\n",
       "WA                16553\n",
       "OR                11303\n",
       "ME                 2750"
      ]
     },
     "metadata": {},
     "output_type": "display_data"
    },
    {
     "name": "stdout",
     "output_type": "stream",
     "text": [
      "State sold the most product is CA\n"
     ]
    }
   ],
   "source": [
    "# Pivot table for State and Product\n",
    "quantity_city = pd.pivot_table(df, values='Quantity Ordered', index='State', aggfunc=np.sum)\n",
    "display(quantity_city.sort_values(by='Quantity Ordered', ascending=False))\n",
    "print('State sold the most product is', quantity_city['Quantity Ordered'].sort_values(ascending=False).index[0])"
   ]
  },
  {
   "cell_type": "code",
   "execution_count": 16,
   "id": "7bc091d2",
   "metadata": {},
   "outputs": [
    {
     "data": {
      "text/html": [
       "<div>\n",
       "<style scoped>\n",
       "    .dataframe tbody tr th:only-of-type {\n",
       "        vertical-align: middle;\n",
       "    }\n",
       "\n",
       "    .dataframe tbody tr th {\n",
       "        vertical-align: top;\n",
       "    }\n",
       "\n",
       "    .dataframe thead th {\n",
       "        text-align: right;\n",
       "    }\n",
       "</style>\n",
       "<table border=\"1\" class=\"dataframe\">\n",
       "  <thead>\n",
       "    <tr style=\"text-align: right;\">\n",
       "      <th></th>\n",
       "      <th>Total Sales</th>\n",
       "    </tr>\n",
       "    <tr>\n",
       "      <th>State</th>\n",
       "      <th></th>\n",
       "    </tr>\n",
       "  </thead>\n",
       "  <tbody>\n",
       "    <tr>\n",
       "      <th>CA</th>\n",
       "      <td>1.371477e+07</td>\n",
       "    </tr>\n",
       "    <tr>\n",
       "      <th>NY</th>\n",
       "      <td>4.664317e+06</td>\n",
       "    </tr>\n",
       "    <tr>\n",
       "      <th>TX</th>\n",
       "      <td>4.587557e+06</td>\n",
       "    </tr>\n",
       "    <tr>\n",
       "      <th>MA</th>\n",
       "      <td>3.661642e+06</td>\n",
       "    </tr>\n",
       "    <tr>\n",
       "      <th>GA</th>\n",
       "      <td>2.795499e+06</td>\n",
       "    </tr>\n",
       "    <tr>\n",
       "      <th>WA</th>\n",
       "      <td>2.747755e+06</td>\n",
       "    </tr>\n",
       "    <tr>\n",
       "      <th>OR</th>\n",
       "      <td>1.870732e+06</td>\n",
       "    </tr>\n",
       "    <tr>\n",
       "      <th>ME</th>\n",
       "      <td>4.497583e+05</td>\n",
       "    </tr>\n",
       "  </tbody>\n",
       "</table>\n",
       "</div>"
      ],
      "text/plain": [
       "        Total Sales\n",
       "State              \n",
       "CA     1.371477e+07\n",
       "NY     4.664317e+06\n",
       "TX     4.587557e+06\n",
       "MA     3.661642e+06\n",
       "GA     2.795499e+06\n",
       "WA     2.747755e+06\n",
       "OR     1.870732e+06\n",
       "ME     4.497583e+05"
      ]
     },
     "metadata": {},
     "output_type": "display_data"
    },
    {
     "name": "stdout",
     "output_type": "stream",
     "text": [
      "State made most sales is CA\n"
     ]
    }
   ],
   "source": [
    "# Pivot table for State and Total Sales\n",
    "sales_state = pd.pivot_table(df, values='Total Sales', index='State', aggfunc=np.sum)\n",
    "display(sales_state.sort_values(by='Total Sales', ascending=False))\n",
    "print('State made most sales is', sales_state['Total Sales'].sort_values(ascending=False).index[0])"
   ]
  },
  {
   "cell_type": "markdown",
   "id": "d43d9499",
   "metadata": {},
   "source": [
    "### Question 3: What time should we display advertisemens to maximize the likelihood of customer’s buying product?"
   ]
  },
  {
   "cell_type": "code",
   "execution_count": 17,
   "id": "57cdc6e2",
   "metadata": {},
   "outputs": [
    {
     "data": {
      "image/png": "[encoded data removed]",
      "text/plain": [
       "<Figure size 864x360 with 1 Axes>"
      ]
     },
     "metadata": {
      "needs_background": "light"
     },
     "output_type": "display_data"
    }
   ],
   "source": [
    "# Make an Order Time (in hour and minute) column\n",
    "\n",
    "df['Order Time'] = df['Order Date'].dt.strftime('%H:%M')\n",
    "df['Order Time'] = pd.to_datetime(df['Order Time'], format='%H:%M')\n",
    "\n",
    "# Pivot table of Order Time and Total Sales\n",
    "time_sales = pd.pivot_table(df, values='Total Sales', index='Order Time', aggfunc=np.sum)\n",
    "# Grouping Total Sales datas into hourly with sum values\n",
    "# https://www.dataquest.io/blog/tutorial-time-series-analysis-with-pandas/\n",
    "time_sales = time_sales.resample('H').sum()\n",
    "time_sales.set_index(np.arange(24), inplace=True)\n",
    "\n",
    "# Lineplot of Total Sales and Order Time\n",
    "fig, ax = plt.subplots(figsize=(12,5))\n",
    "ax = sns.lineplot(x=time_sales.index, y='Total Sales', data=time_sales)\n",
    "# Set labels\n",
    "plt.ylabel('Total Sales (USD)')\n",
    "plt.xlabel('Hour')\n",
    "# Set xticks\n",
    "plt.xticks(np.arange(24))\n",
    "# Set grid\n",
    "ax.grid(True, linestyle='--')\n",
    "# Show the plot\n",
    "plt.show()"
   ]
  },
  {
   "cell_type": "markdown",
   "id": "6840ff92",
   "metadata": {},
   "source": [
    "Based on the plot, to maximize the likelihood of customer's buying the products, we should display ad for: <br>\n",
    "* Slightly before 11 am or 7 pm. This assume that we haven't reached peak customer at those hours"
   ]
  },
  {
   "cell_type": "markdown",
   "id": "c5600b87",
   "metadata": {},
   "source": [
    "### Question 4: What products are most often sold together?"
   ]
  },
  {
   "cell_type": "code",
   "execution_count": 18,
   "id": "ae806ab2",
   "metadata": {},
   "outputs": [
    {
     "data": {
      "text/html": [
       "<div>\n",
       "<style scoped>\n",
       "    .dataframe tbody tr th:only-of-type {\n",
       "        vertical-align: middle;\n",
       "    }\n",
       "\n",
       "    .dataframe tbody tr th {\n",
       "        vertical-align: top;\n",
       "    }\n",
       "\n",
       "    .dataframe thead th {\n",
       "        text-align: right;\n",
       "    }\n",
       "</style>\n",
       "<table border=\"1\" class=\"dataframe\">\n",
       "  <thead>\n",
       "    <tr style=\"text-align: right;\">\n",
       "      <th></th>\n",
       "      <th></th>\n",
       "      <th>Count</th>\n",
       "    </tr>\n",
       "  </thead>\n",
       "  <tbody>\n",
       "    <tr>\n",
       "      <th>iPhone</th>\n",
       "      <th>Lightning Charging Cable</th>\n",
       "      <td>1005</td>\n",
       "    </tr>\n",
       "    <tr>\n",
       "      <th>Google Phone</th>\n",
       "      <th>USB-C Charging Cable</th>\n",
       "      <td>987</td>\n",
       "    </tr>\n",
       "    <tr>\n",
       "      <th>iPhone</th>\n",
       "      <th>Wired Headphones</th>\n",
       "      <td>447</td>\n",
       "    </tr>\n",
       "    <tr>\n",
       "      <th>Google Phone</th>\n",
       "      <th>Wired Headphones</th>\n",
       "      <td>414</td>\n",
       "    </tr>\n",
       "    <tr>\n",
       "      <th>Vareebadd Phone</th>\n",
       "      <th>USB-C Charging Cable</th>\n",
       "      <td>361</td>\n",
       "    </tr>\n",
       "    <tr>\n",
       "      <th>iPhone</th>\n",
       "      <th>Apple Airpods Headphones</th>\n",
       "      <td>360</td>\n",
       "    </tr>\n",
       "    <tr>\n",
       "      <th>Google Phone</th>\n",
       "      <th>Bose SoundSport Headphones</th>\n",
       "      <td>220</td>\n",
       "    </tr>\n",
       "    <tr>\n",
       "      <th>USB-C Charging Cable</th>\n",
       "      <th>Wired Headphones</th>\n",
       "      <td>160</td>\n",
       "    </tr>\n",
       "    <tr>\n",
       "      <th>Vareebadd Phone</th>\n",
       "      <th>Wired Headphones</th>\n",
       "      <td>143</td>\n",
       "    </tr>\n",
       "    <tr>\n",
       "      <th>Lightning Charging Cable</th>\n",
       "      <th>Wired Headphones</th>\n",
       "      <td>92</td>\n",
       "    </tr>\n",
       "  </tbody>\n",
       "</table>\n",
       "</div>"
      ],
      "text/plain": [
       "                                                     Count\n",
       "iPhone                   Lightning Charging Cable     1005\n",
       "Google Phone             USB-C Charging Cable          987\n",
       "iPhone                   Wired Headphones              447\n",
       "Google Phone             Wired Headphones              414\n",
       "Vareebadd Phone          USB-C Charging Cable          361\n",
       "iPhone                   Apple Airpods Headphones      360\n",
       "Google Phone             Bose SoundSport Headphones    220\n",
       "USB-C Charging Cable     Wired Headphones              160\n",
       "Vareebadd Phone          Wired Headphones              143\n",
       "Lightning Charging Cable Wired Headphones               92"
      ]
     },
     "metadata": {},
     "output_type": "display_data"
    }
   ],
   "source": [
    "# First we have to group product sold together by Order ID\n",
    "# https://stackoverflow.com/questions/43348194/pandas-select-rows-if-id-appear-several-time\n",
    "order_id = df[df['Order ID'].duplicated(keep=False)]\n",
    "\n",
    "# Then we pivot table Order ID and product\n",
    "# https://stackoverflow.com/questions/27298178/concatenate-strings-from-several-rows-using-pandas-groupby\n",
    "orderID_product = order_id.groupby('Order ID')['Product'].apply(', '.join).reset_index()\n",
    "\n",
    "# Then we count products purchased together\n",
    "# https://stackoverflow.com/questions/52195887/counting-unique-pairs-of-numbers-into-a-python-dictionary\n",
    "from itertools import combinations\n",
    "from collections import Counter\n",
    "\n",
    "count = Counter()\n",
    "\n",
    "for sublist in orderID_product['Product']:\n",
    "    product = sublist.split(', ')\n",
    "    count.update(Counter(combinations(product, 2)))\n",
    "\n",
    "    \n",
    "\"\"\"\n",
    "# 10 produt pairs most often sold together\n",
    "print('10 produt pairs most often sold together:')\n",
    "for i in range(10):\n",
    "    max_key = max(count, key=count.get)\n",
    "    print(max_key, 'sum:' ,count[max_key])\n",
    "    count.pop(max_key)\n",
    "\"\"\"\n",
    "\n",
    "# convert dictionary 'count' to dataframe\n",
    "count = pd.DataFrame(count, index=['Count']).T.sort_values(by='Count', ascending=False)\n",
    "display(count.head(10))"
   ]
  },
  {
   "cell_type": "markdown",
   "id": "7a5f918a",
   "metadata": {},
   "source": [
    "### Question 5: What product sold the most? Why do you think it sold the most?"
   ]
  },
  {
   "cell_type": "code",
   "execution_count": 19,
   "id": "a9ae35e9",
   "metadata": {},
   "outputs": [
    {
     "data": {
      "text/html": [
       "<div>\n",
       "<style scoped>\n",
       "    .dataframe tbody tr th:only-of-type {\n",
       "        vertical-align: middle;\n",
       "    }\n",
       "\n",
       "    .dataframe tbody tr th {\n",
       "        vertical-align: top;\n",
       "    }\n",
       "\n",
       "    .dataframe thead th {\n",
       "        text-align: right;\n",
       "    }\n",
       "</style>\n",
       "<table border=\"1\" class=\"dataframe\">\n",
       "  <thead>\n",
       "    <tr style=\"text-align: right;\">\n",
       "      <th></th>\n",
       "      <th>Price Each</th>\n",
       "      <th>Quantity Ordered</th>\n",
       "    </tr>\n",
       "    <tr>\n",
       "      <th>Product</th>\n",
       "      <th></th>\n",
       "      <th></th>\n",
       "    </tr>\n",
       "  </thead>\n",
       "  <tbody>\n",
       "    <tr>\n",
       "      <th>AAA Batteries (4-pack)</th>\n",
       "      <td>2.99</td>\n",
       "      <td>31017</td>\n",
       "    </tr>\n",
       "    <tr>\n",
       "      <th>AA Batteries (4-pack)</th>\n",
       "      <td>3.84</td>\n",
       "      <td>27635</td>\n",
       "    </tr>\n",
       "    <tr>\n",
       "      <th>USB-C Charging Cable</th>\n",
       "      <td>11.95</td>\n",
       "      <td>23975</td>\n",
       "    </tr>\n",
       "    <tr>\n",
       "      <th>Lightning Charging Cable</th>\n",
       "      <td>14.95</td>\n",
       "      <td>23217</td>\n",
       "    </tr>\n",
       "    <tr>\n",
       "      <th>Wired Headphones</th>\n",
       "      <td>11.99</td>\n",
       "      <td>20557</td>\n",
       "    </tr>\n",
       "    <tr>\n",
       "      <th>Apple Airpods Headphones</th>\n",
       "      <td>150.00</td>\n",
       "      <td>15661</td>\n",
       "    </tr>\n",
       "    <tr>\n",
       "      <th>Bose SoundSport Headphones</th>\n",
       "      <td>99.99</td>\n",
       "      <td>13457</td>\n",
       "    </tr>\n",
       "    <tr>\n",
       "      <th>27in FHD Monitor</th>\n",
       "      <td>149.99</td>\n",
       "      <td>7550</td>\n",
       "    </tr>\n",
       "    <tr>\n",
       "      <th>iPhone</th>\n",
       "      <td>700.00</td>\n",
       "      <td>6849</td>\n",
       "    </tr>\n",
       "    <tr>\n",
       "      <th>27in 4K Gaming Monitor</th>\n",
       "      <td>389.99</td>\n",
       "      <td>6244</td>\n",
       "    </tr>\n",
       "    <tr>\n",
       "      <th>34in Ultrawide Monitor</th>\n",
       "      <td>379.99</td>\n",
       "      <td>6199</td>\n",
       "    </tr>\n",
       "    <tr>\n",
       "      <th>Google Phone</th>\n",
       "      <td>600.00</td>\n",
       "      <td>5532</td>\n",
       "    </tr>\n",
       "    <tr>\n",
       "      <th>Flatscreen TV</th>\n",
       "      <td>300.00</td>\n",
       "      <td>4819</td>\n",
       "    </tr>\n",
       "    <tr>\n",
       "      <th>Macbook Pro Laptop</th>\n",
       "      <td>1700.00</td>\n",
       "      <td>4728</td>\n",
       "    </tr>\n",
       "    <tr>\n",
       "      <th>ThinkPad Laptop</th>\n",
       "      <td>999.99</td>\n",
       "      <td>4130</td>\n",
       "    </tr>\n",
       "    <tr>\n",
       "      <th>20in Monitor</th>\n",
       "      <td>109.99</td>\n",
       "      <td>4129</td>\n",
       "    </tr>\n",
       "    <tr>\n",
       "      <th>Vareebadd Phone</th>\n",
       "      <td>400.00</td>\n",
       "      <td>2068</td>\n",
       "    </tr>\n",
       "    <tr>\n",
       "      <th>LG Washing Machine</th>\n",
       "      <td>600.00</td>\n",
       "      <td>666</td>\n",
       "    </tr>\n",
       "    <tr>\n",
       "      <th>LG Dryer</th>\n",
       "      <td>600.00</td>\n",
       "      <td>646</td>\n",
       "    </tr>\n",
       "  </tbody>\n",
       "</table>\n",
       "</div>"
      ],
      "text/plain": [
       "                            Price Each  Quantity Ordered\n",
       "Product                                                 \n",
       "AAA Batteries (4-pack)            2.99             31017\n",
       "AA Batteries (4-pack)             3.84             27635\n",
       "USB-C Charging Cable             11.95             23975\n",
       "Lightning Charging Cable         14.95             23217\n",
       "Wired Headphones                 11.99             20557\n",
       "Apple Airpods Headphones        150.00             15661\n",
       "Bose SoundSport Headphones       99.99             13457\n",
       "27in FHD Monitor                149.99              7550\n",
       "iPhone                          700.00              6849\n",
       "27in 4K Gaming Monitor          389.99              6244\n",
       "34in Ultrawide Monitor          379.99              6199\n",
       "Google Phone                    600.00              5532\n",
       "Flatscreen TV                   300.00              4819\n",
       "Macbook Pro Laptop             1700.00              4728\n",
       "ThinkPad Laptop                 999.99              4130\n",
       "20in Monitor                    109.99              4129\n",
       "Vareebadd Phone                 400.00              2068\n",
       "LG Washing Machine              600.00               666\n",
       "LG Dryer                        600.00               646"
      ]
     },
     "metadata": {},
     "output_type": "display_data"
    },
    {
     "data": {
      "image/png": "[encoded data removed]",
      "text/plain": [
       "<Figure size 432x288 with 2 Axes>"
      ]
     },
     "metadata": {
      "needs_background": "light"
     },
     "output_type": "display_data"
    },
    {
     "name": "stdout",
     "output_type": "stream",
     "text": [
      "Product sold the most (by quantity) is  AAA Batteries (4-pack)\n"
     ]
    }
   ],
   "source": [
    "# Pivot table for Product and Quantity Ordered\n",
    "product_quantity = pd.pivot_table(df, values=['Quantity Ordered', 'Price Each'], index='Product',\n",
    "                                  aggfunc={'Quantity Ordered':np.sum, 'Price Each':np.mean}).sort_values(by='Quantity Ordered', ascending=False)\n",
    "display(product_quantity)\n",
    "\n",
    "# Barplot for Quantity Ordered\n",
    "fig, ax1 = plt.subplots()\n",
    "ax1 = sns.barplot(x=product_quantity.index, y='Quantity Ordered', data=product_quantity, \n",
    "            color='#0B10E0', alpha = 0.5)\n",
    "# Rotate x-labels to horizontal\n",
    "plt.xticks(rotation=90)\n",
    "\n",
    "# Lineplot for Price Each\n",
    "ax2 = ax1.twinx()\n",
    "ax2 = sns.lineplot(x=product_quantity.index, y='Price Each', data=product_quantity, \n",
    "                   marker='o', color='#DEB059')\n",
    "\n",
    "# Show the plot\n",
    "plt.show()\n",
    "\n",
    "# Express the answer\n",
    "print('Product sold the most (by quantity) is ', product_quantity.index[0])"
   ]
  },
  {
   "cell_type": "markdown",
   "id": "c7127695",
   "metadata": {},
   "source": [
    "Product sold the most (by quantity) is  AAA Batteries (4-pack). Probably because:<br>\n",
    "* It is consumable\n",
    "* Most electronics use AAA batteries as power source\n",
    "* It's the cheapest so people won't be too reluctant to spent money on it"
   ]
  },
  {
   "cell_type": "code",
   "execution_count": null,
   "id": "c1279be4",
   "metadata": {},
   "outputs": [],
   "source": []
  }
 ],
 "metadata": {
  "kernelspec": {
   "display_name": "Python 3",
   "language": "python",
   "name": "python3"
  },
  "language_info": {
   "codemirror_mode": {
    "name": "ipython",
    "version": 3
   },
   "file_extension": ".py",
   "mimetype": "text/x-python",
   "name": "python",
   "nbconvert_exporter": "python",
   "pygments_lexer": "ipython3",
   "version": "3.8.10"
  }
 },
 "nbformat": 4,
 "nbformat_minor": 5
}
